{
 "cells": [
  {
   "cell_type": "markdown",
   "id": "d2ddc91d",
   "metadata": {},
   "source": [
    "# Python Primitive Data Types: A Code-Along\n",
    "\n",
    "In this notebook, we'll explore Python's basic (primitive) data types:\n",
    "\n",
    "- **Integers**: Whole numbers\n",
    "- **Floats**: Numbers with decimals\n",
    "- **Strings**: Sequences of characters\n",
    "- **Booleans**: True/False values\n",
    "\n",
    "We'll see examples of how to use these data types, perform operations, and understand their roles in Python programming. This will build a strong foundation for later machine learning topics."
   ]
  },
  {
   "cell_type": "markdown",
   "id": "651260e7",
   "metadata": {},
   "source": [
    "## 1. Integers and Floats\n",
    "\n",
    "**Integers** are whole numbers, and **floats** are numbers with decimal points. They are used for numerical calculations. Let's see how we can work with them."
   ]
  },
  {
   "cell_type": "code",
   "execution_count": null,
   "id": "c0475317",
   "metadata": {},
   "outputs": [],
   "source": [
    "# Declare an integer and a float\n",
    "my_int = 42\n",
    "my_float = 3.14159\n",
    "\n",
    "# Print the values and their types\n",
    "print(\"Integer value:\", my_int, \"of type\", type(my_int))\n",
    "print(\"Float value:\", my_float, \"of type\", type(my_float))"
   ]
  },
  {
   "cell_type": "markdown",
   "id": "89516090",
   "metadata": {},
   "source": [
    "### Arithmetic Operations\n",
    "\n",
    "You can perform arithmetic operations with integers and floats. Here’s an example:"
   ]
  },
  {
   "cell_type": "code",
   "execution_count": null,
   "id": "3cae9ecc",
   "metadata": {},
   "outputs": [],
   "source": [
    "# Basic arithmetic operations\n",
    "sum_value = my_int + my_float\n",
    "product = my_int * my_float\n",
    "difference = my_int - my_float\n",
    "quotient = my_int / my_float\n",
    "\n",
    "print(\"Sum:\", sum_value)\n",
    "print(\"Product:\", product)\n",
    "print(\"Difference:\", difference)\n",
    "print(\"Quotient:\", quotient)"
   ]
  },
  {
   "cell_type": "markdown",
   "id": "4dc28c3d",
   "metadata": {},
   "source": [
    "## 2. Strings\n",
    "\n",
    "**Strings** are used to represent text. They are sequences of characters and can be manipulated in many ways."
   ]
  },
  {
   "cell_type": "code",
   "execution_count": null,
   "id": "ebdc5fc1",
   "metadata": {},
   "outputs": [],
   "source": [
    "# Declare a string\n",
    "my_string = \"Hello, Python World!\"\n",
    "\n",
    "# Print the string and its type\n",
    "print(\"String value:\", my_string)\n",
    "print(\"Type:\", type(my_string))"
   ]
  },
  {
   "cell_type": "markdown",
   "id": "86a274f5",
   "metadata": {},
   "source": [
    "### String Operations\n",
    "\n",
    "You can concatenate strings, repeat them, and even format them. Here’s a quick demo:"
   ]
  },
  {
   "cell_type": "code",
   "execution_count": null,
   "id": "833142be",
   "metadata": {},
   "outputs": [],
   "source": [
    "# String concatenation and repetition\n",
    "greeting = \"Hello\"\n",
    "name = \"DeepSeek\"\n",
    "full_message = greeting + \", \" + name + \"!\"\n",
    "print(\"Concatenated Message:\", full_message)\n",
    "\n",
    "# Repeating a string\n",
    "repeated = \"Python! \" * 3\n",
    "print(\"Repeated String:\", repeated)"
   ]
  },
  {
   "cell_type": "markdown",
   "id": "6d21f43d",
   "metadata": {},
   "source": [
    "## 3. Booleans\n",
    "\n",
    "**Booleans** represent truth values: `True` or `False`. They are often used in control flow statements."
   ]
  },
  {
   "cell_type": "code",
   "execution_count": null,
   "id": "efa00a85",
   "metadata": {},
   "outputs": [],
   "source": [
    "# Boolean values\n",
    "is_active = True\n",
    "is_complete = False\n",
    "\n",
    "print(\"is_active:\", is_active, \"of type\", type(is_active))\n",
    "print(\"is_complete:\", is_complete, \"of type\", type(is_complete))"
   ]
  },
  {
   "cell_type": "markdown",
   "id": "7b289e01",
   "metadata": {},
   "source": [
    "### Boolean Expressions\n",
    "\n",
    "Booleans often come from comparisons or logical operations."
   ]
  },
  {
   "cell_type": "code",
   "execution_count": null,
   "id": "81809902",
   "metadata": {},
   "outputs": [],
   "source": [
    "# Boolean expressions\n",
    "a = 10\n",
    "b = 20\n",
    "\n",
    "print(\"Is a less than b?\", a < b)\n",
    "print(\"Is a equal to b?\", a == b)\n",
    "print(\"Is a greater than or equal to 10?\", a >= 10)"
   ]
  },
  {
   "cell_type": "markdown",
   "id": "1f037d58",
   "metadata": {},
   "source": [
    "## 4. Connecting Data Types to Real-World Scenarios\n",
    "\n",
    "In machine learning, especially when dealing with performance metrics like FLOPS (Floating Point Operations Per Second), **floats** play a crucial role. For example, if we want to estimate the performance of a model, we might use a calculation like this:"
   ]
  },
  {
   "cell_type": "code",
   "execution_count": null,
   "id": "f1541972",
   "metadata": {},
   "outputs": [],
   "source": [
    "# A simple illustrative example of a FLOPS calculation\n",
    "flops_per_op = 2.5e-9  # 2.5 nanoseconds per operation (in seconds)\n",
    "total_ops = 1e12       # one trillion operations\n",
    "estimated_time = total_ops * flops_per_op  # total time in seconds\n",
    "\n",
    "print(\"Estimated time for operations (in seconds):\", estimated_time)"
   ]
  },
  {
   "cell_type": "markdown",
   "id": "b2654284",
   "metadata": {},
   "source": [
    "## 5. Exercise\n",
    "\n",
    "**Your Task:** Write a script that:\n",
    "\n",
    "1. Prompts the user to enter two numbers.\n",
    "2. Converts these inputs into floats.\n",
    "3. Calculates and prints the sum, product, and average of these two numbers.\n",
    "4. Also, prints out a message saying whether the sum is greater than, equal to, or less than 100.\n",
    "\n",
    "*Hint:* Use `input()` for user input and appropriate type conversions.\n",
    "\n",
    "Once you've written your solution, run the cell and test your code."
   ]
  },
  {
   "cell_type": "code",
   "execution_count": null,
   "id": "ed672edd",
   "metadata": {},
   "outputs": [],
   "source": [
    "# Exercise: Complete the code below\n",
    "\n",
    "# Prompt the user for two numbers and convert them to floats\n",
    "num1 = float(input(\"Enter the first number: \"))\n",
    "num2 = float(input(\"Enter the second number: \"))\n",
    "\n",
    "# Calculate sum, product, and average\n",
    "sum_nums = num1 + num2\n",
    "product_nums = num1 * num2\n",
    "average_nums = sum_nums / 2\n",
    "\n",
    "# Print the results\n",
    "print(\"Sum:\", sum_nums)\n",
    "print(\"Product:\", product_nums)\n",
    "print(\"Average:\", average_nums)\n",
    "\n",
    "# Determine the relation of the sum to 100\n",
    "if sum_nums > 100:\n",
    "    print(\"The sum is greater than 100.\")\n",
    "elif sum_nums == 100:\n",
    "    print(\"The sum is exactly 100.\")\n",
    "else:\n",
    "    print(\"The sum is less than 100.\")"
   ]
  }
 ],
 "metadata": {
  "kernelspec": {
   "display_name": "Python 3 ",
   "language": "python",
   "name": "python3"
  },
  "language_info": {
   "codemirror_mode": {
    "name": "ipython",
    "version": 3
   },
   "file_extension": ".py",
   "mimetype": "text/x-python",
   "name": "python",
   "nbconvert_exporter": "python",
   "pygments_lexer": "ipython3",
   "version": "3.12.8"
  }
 },
 "nbformat": 4,
 "nbformat_minor": 5
}
