{
 "cells": [
  {
   "cell_type": "markdown",
   "metadata": {},
   "source": [
    "# Python Fundamentals: Data Types, Control Structures, and Computational Thinking\n",
    "\n",
    "In this notebook, we'll build on the Python basics from our previous session by introducing control structures (conditionals and loops) and functions. We'll then apply these concepts to real-world problems, practicing computational thinking by decomposing problems, abstracting essential details, recognizing patterns, and designing algorithms."
   ]
  },
  {
   "cell_type": "markdown",
   "metadata": {},
   "source": [
    "## 1. Recap of Primitive Data Types\n",
    "\n",
    "Python's primitive data types include:\n",
    "- **Integers** (e.g., `42`)\n",
    "- **Floats** (e.g., `3.14159`)\n",
    "- **Strings** (e.g., \"Hello\")\n",
    "- **Booleans** (e.g., `True`, `False`)\n",
    "\n",
    "Understanding these types is the foundation for solving more complex problems."
   ]
  },
  {
   "cell_type": "code",
   "execution_count": null,
   "metadata": {},
   "outputs": [],
   "source": [
    "# Integers, Floats, Strings, and Booleans\n",
    "age = 30\n",
    "pi = 3.14159\n",
    "name = \"Alice\"\n",
    "is_student = True\n",
    "\n",
    "variables = [age, pi, name, is_student]\n",
    "for var in variables:\n",
    "    print(f\"Value: {var}, Type: {type(var)}\")"
   ]
  },
  {
   "cell_type": "markdown",
   "metadata": {},
   "source": [
    "## 2. Control Structures\n",
    "\n",
    "Control structures allow us to guide the flow of our programs. We'll start with conditional statements and loops."
   ]
  },
  {
   "cell_type": "markdown",
   "metadata": {},
   "source": [
    "### 2.1 Conditional Statements\n",
    "\n",
    "Conditional statements let us make decisions in our code. For example, we can decide what to do if a number is positive, negative, or zero."
   ]
  },
  {
   "cell_type": "code",
   "execution_count": null,
   "metadata": {},
   "outputs": [],
   "source": [
    "# Check if a number is positive, negative, or zero\n",
    "number = -10\n",
    "\n",
    "if number > 0:\n",
    "    print(\"The number is positive.\")\n",
    "elif number == 0:\n",
    "    print(\"The number is zero.\")\n",
    "else:\n",
    "    print(\"The number is negative.\")"
   ]
  },
  {
   "cell_type": "markdown",
   "metadata": {},
   "source": [
    "### 2.2 Loops\n",
    "\n",
    "Loops let us repeat a block of code multiple times. For example, printing the numbers from 1 to 5."
   ]
  },
  {
   "cell_type": "code",
   "execution_count": null,
   "metadata": {},
   "outputs": [],
   "source": [
    "# Print numbers 1 through 5\n",
    "for i in range(1, 6):\n",
    "    print(i)"
   ]
  },
  {
   "cell_type": "markdown",
   "metadata": {},
   "source": [
    "## 3. Functions\n",
    "\n",
    "Functions allow us to encapsulate code into reusable blocks. We'll define functions for specific tasks."
   ]
  },
  {
   "cell_type": "code",
   "execution_count": null,
   "metadata": {},
   "outputs": [],
   "source": [
    "# Function to calculate the square of a number\n",
    "def square(number):\n",
    "    return number * number\n",
    "\n",
    "result = square(4)\n",
    "print(f\"The square of 4 is {result}.\")"
   ]
  },
  {
   "cell_type": "markdown",
   "metadata": {},
   "source": [
    "## 4. Group Exercise 1: Building a Simple Calculator\n",
    "\n",
    "### Instructions:\n",
    "\n",
    "Work in small groups to create a simple calculator that:\n",
    "1. **Prompts the user** to enter two numbers.\n",
    "2. **Prompts the user** to choose an operation: addition, subtraction, multiplication, or division.\n",
    "3. **Performs the chosen operation** using functions you define for each operation.\n",
    "4. **Displays the result** to the user.\n",
    "\n",
    "Use conditional statements to determine which operation to perform. This exercise reinforces decomposition (breaking the problem into functions) and abstraction (hiding details inside functions)."
   ]
  },
  {
   "cell_type": "code",
   "execution_count": null,
   "metadata": {},
   "outputs": [],
   "source": [
    "# Simple Calculator Template\n",
    "\n",
    "def add(x, y):\n",
    "    return x + y\n",
    "\n",
    "def subtract(x, y):\n",
    "    return x - y\n",
    "\n",
    "def multiply(x, y):\n",
    "    return x * y\n",
    "\n",
    "def divide(x, y):\n",
    "    if y != 0:\n",
    "        return x / y\n",
    "    else:\n",
    "        return \"Error: Division by zero\"\n",
    "\n",
    "def calculator():\n",
    "    num1 = float(input(\"Enter the first number: \"))\n",
    "    num2 = float(input(\"Enter the second number: \"))\n",
    "    print(\"Choose an operation:\")\n",
    "    print(\"1. Addition\")\n",
    "    print(\"2. Subtraction\")\n",
    "    print(\"3. Multiplication\")\n",
    "    print(\"4. Division\")\n",
    "    choice = input(\"Enter choice (1/2/3/4): \")\n",
    "    \n",
    "    if choice == '1':\n",
    "        result = add(num1, num2)\n",
    "        op = '+'\n",
    "    elif choice == '2':\n",
    "        result = subtract(num1, num2)\n",
    "        op = '-'\n",
    "    elif choice == '3':\n",
    "        result = multiply(num1, num2)\n",
    "        op = '*'\n",
    "    elif choice == '4':\n",
    "        result = divide(num1, num2)\n",
    "        op = '/'\n",
    "    else:\n",
    "        print(\"Invalid input\")\n",
    "        return\n",
    "    \n",
    "    print(f\"{num1} {op} {num2} = {result}\")\n",
    "\n",
    "# Run the calculator\n",
    "calculator()"
   ]
  },
  {
   "cell_type": "markdown",
   "metadata": {},
   "source": [
    "## 5. Group Exercise 2: Party Budget Planner\n",
    "\n",
    "### Scenario:\n",
    "\n",
    "Imagine you are planning a small party. You have a list of items you need to buy (e.g., food, decorations, games) with their respective prices. You also have a fixed budget. Your task is to:\n",
    "\n",
    "1. **Decompose the problem**: Identify the main tasks (calculating total cost, checking against budget, listing expensive items).\n",
    "2. **Abstract the details**: Create functions to perform each task (e.g., `calculate_total_cost`, `check_budget`, and `list_expensive_items`).\n",
    "3. **Design an algorithm**: Combine these functions to decide if you can buy everything within your budget, and if not, identify items that exceed a specified price threshold.\n",
    "\n",
    "### Instructions:\n",
    "\n",
    "1. Create a list of items (strings) and a corresponding list of prices (floats).\n",
    "2. Write a function `calculate_total_cost(prices)` that sums all prices.\n",
    "3. Write a function `check_budget(total_cost, budget)` that uses an `if/else` statement to print whether you are within budget.\n",
    "4. Write a function `list_expensive_items(items, prices, threshold)` that uses a loop and conditional statements to identify items with a price higher than a given threshold.\n",
    "5. In your main program, call these functions and then discuss with your group how breaking the problem into smaller tasks helped in designing your solution."
   ]
  },
  {
   "cell_type": "code",
   "execution_count": null,
   "metadata": {},
   "outputs": [],
   "source": [
    "# Party Budget Planner Template\n",
    "\n",
    "# Lists of items and their prices\n",
    "items = [\"Cake\", \"Balloons\", \"Drinks\", \"Snacks\", \"Decorations\"]\n",
    "prices = [25.0, 15.0, 30.0, 20.0, 10.0]\n",
    "\n",
    "budget = 80.0\n",
    "\n",
    "def calculate_total_cost(prices):\n",
    "    total = 0\n",
    "    for price in prices:\n",
    "        total += price\n",
    "    return total\n",
    "\n",
    "def check_budget(total_cost, budget):\n",
    "    if total_cost <= budget:\n",
    "        print(f\"Total cost ${total_cost} is within the budget of ${budget}.\")\n",
    "    else:\n",
    "        print(f\"Total cost ${total_cost} exceeds the budget of ${budget}.\")\n",
    "\n",
    "def list_expensive_items(items, prices, threshold):\n",
    "    expensive = []\n",
    "    for item, price in zip(items, prices):\n",
    "        if price > threshold:\n",
    "            expensive.append(item)\n",
    "    return expensive\n",
    "\n",
    "# Main Program\n",
    "total_cost = calculate_total_cost(prices)\n",
    "print(f\"The total cost of the party items is: ${total_cost}\")\n",
    "check_budget(total_cost, budget)\n",
    "\n",
    "# Define a threshold for expensive items\n",
    "price_threshold = 20.0\n",
    "expensive_items = list_expensive_items(items, prices, price_threshold)\n",
    "print(f\"Items costing more than ${price_threshold}: {expensive_items}\")"
   ]
  },
  {
   "cell_type": "markdown",
   "metadata": {},
   "source": [
    "## 6. Reflection and Discussion\n",
    "\n",
    "Now that you've worked on these exercises, consider the following questions:\n",
    "\n",
    "- How did breaking the problem into smaller functions (decomposition) help you in managing the overall task?\n",
    "- Which parts of the problem did you find most challenging, and how did you overcome them?\n",
    "- How can these computational thinking techniques be applied to more complex problems in machine learning?\n",
    "\n",
    "Discuss these questions within your group and then share a summary of your insights with the class."
   ]
  },
  {
   "cell_type": "markdown",
   "metadata": {},
   "source": [
    "## Summary\n",
    "\n",
    "In this session, you learned how to transition from basic data types to using control structures and functions in Python. Through group exercises like the simple calculator and the party budget planner, you practiced computational thinking by breaking problems down, abstracting details, recognizing patterns, and designing algorithms. These skills form the bedrock for solving complex problems in machine learning and beyond."
   ]
  }
 ],
 "metadata": {
  "kernelspec": {
   "display_name": "Python 3",
   "language": "python",
   "name": "python3"
  },
  "language_info": {
   "name": "python",
   "version": "3.x"
  }
 },
 "nbformat": 4,
 "nbformat_minor": 5
}
